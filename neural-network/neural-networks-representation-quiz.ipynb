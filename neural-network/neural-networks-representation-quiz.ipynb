{
 "cells": [
  {
   "cell_type": "markdown",
   "metadata": {},
   "source": [
    "**1.** Which of the following statements are true? Check all that apply.\n",
    "\n",
    "A. Suppose you have a multi-class classification problem with three classes, trained with a 3 layer network. Let $a^{(3)}_1=(h_Θ(x))^1$ be the activation of the first output unit, and similarly $a^{(3)}_2=(h_Θ(x))^2$ and $a^{(3)}_3=(h_Θ(x))^3$. Then for any input x, it must be the case that $a^{(3)}_1+a^{(3)}_2+a^{(3)}_3=1$.\n",
    "\n",
    "B. If a neural network is overfitting the data, one solution would be to decrease the regularization parameter λ.\n",
    "\n",
    "C. If a neural network is overfitting the data, one solution would be to increase the regularization parameter λ.\n",
    "\n",
    "D. In a neural network with many layers, we think of each successive layer as being able to use the earlier layers as features, so as to be able to compute increasingly complex functions."
   ]
  },
  {
   "cell_type": "markdown",
   "metadata": {},
   "source": [
    "**2.** Consider the following neural network which takes two binary-valued inputs $x_1,x_2∈{0,1}$ and outputs $h_Θ(x)$. Which of the following logical functions does it (approximately) compute?\n",
    "\n",
    "![](img\\q52.png)\n",
    "\n",
    "A. AND\n",
    "\n",
    "B. NAND (meaning \"NOT AND\")\n",
    "\n",
    "C. OR\n",
    "\n",
    "D. XOR (exclusive OR)"
   ]
  },
  {
   "cell_type": "markdown",
   "metadata": {},
   "source": [
    "**3.** Consider the neural network given below. Which of the following equations correctly computes the activation $a^{(3)}_1$?\n",
    "\n",
    "Note: $g(z)$ is the sigmoid activation function.\n",
    "\n",
    "A. $a^{(3)}_1=g(Θ^{(2)}_{1,0} a^{(2)}_0 + Θ^{(2)}_{1,1} a^{(2)}_1 + Θ^{(2)}_{1,2} a^{(2)}_2)$\n",
    "\n",
    "B. $a^{(3)}_1=g(Θ^{(2)}_{1,0} a^{(1)}_0 + Θ^{(2)}_{1,1} a^{(1)}_1 + Θ^{(2)}_{1,2} a^{(1)}_2)$\n",
    "\n",
    "C. $a^{(3)}_1=g(Θ^{(1)}_{1,0} a^{(2)}_0 + Θ^{(1)}_{1,1} a^{(2)}_1 + Θ^{(1)}_{1,2} a^{(2)}_2)$\n",
    "\n",
    "D. $a^{(3)}_1=g(Θ^{(2)}_{2,0} a^{(2)}_0 + Θ^{(2)}_{2,1} a^{(2)}_1 + Θ^{(2)}_{2,2} a^{(2)}_2)$"
   ]
  },
  {
   "cell_type": "markdown",
   "metadata": {},
   "source": [
    "**4.** You have the following neural network:\n",
    "\n",
    "\n",
    "You'd like to compute the activations of the hidden layer $a(2)∈R^3$. One way to do so is the following Octave code:\n",
    "\n",
    "\n",
    "You want to have a vectorized implementation of this (i.e., one that does not use for loops). Which of the following implementations correctly compute a(2)? Check all that apply.\n",
    "\n",
    "A. `z = Theta1 * x; a2 = sigmoid (z);`\n",
    "\n",
    "B. `a2 = sigmoid (x * Theta1);`\n",
    "\n",
    "C. `a2 = sigmoid (Theta2 * x);`\n",
    "\n",
    "D. `z = sigmoid(x); a2 = sigmoid (Theta1 * z);`"
   ]
  },
  {
   "cell_type": "markdown",
   "metadata": {},
   "source": [
    "**5.** You are using the neural network pictured below and have learned the parameters $\\Theta^{(1)} = \\begin{bmatrix}\n",
    "1 & 0.5 & 1.9 \\\\  1 & 1.2 & 2.7 \\end{bmatrix}$ (used to compute $a^{(2)}$) and $\\Theta^{(2)}=\\begin{bmatrix}1 & −0.2 & −1.7 \\end{bmatrix}$ (used to compute $a^{(3)}$ as a function of $a^{(2)}$).\n",
    "\n",
    "Suppose you swap the parameters for the first hidden layer between its two units so $\\Theta^{(1)} = \\begin{bmatrix}\n",
    "1 & 1.2 & 2.7 \\\\  1 & 0.5 & 1.9\\end{bmatrix}$ and also swap the output layer so $\\Theta^{(2)}= \\begin{bmatrix}1 & −1.7 & −0.2\\end{bmatrix}$. How will this change the value of the output $h_\\Theta(x)$?\n",
    "\n",
    "![](img/q55.png)\n",
    "\n",
    "A. It will stay the same.\n",
    "\n",
    "B. It will increase.\n",
    "\n",
    "C. It will decrease\n",
    "\n",
    "D. Insufficient information to tell: it may increase or decrease."
   ]
  },
  {
   "cell_type": "markdown",
   "metadata": {},
   "source": [
    "##  Feedforward Propagation Algorithm"
   ]
  },
  {
   "cell_type": "code",
   "execution_count": 1,
   "metadata": {
    "collapsed": false
   },
   "outputs": [
    {
     "name": "stdout",
     "output_type": "stream",
     "text": [
      "[[-20763.83]]\n",
      "[[-20763.83]]\n"
     ]
    }
   ],
   "source": [
    "import numpy as np\n",
    "\n",
    "def compute_next_layer(layer, theta):\n",
    "    previous_layer = np.concatenate((np.asmatrix([[1]]), layer), axis=0)\n",
    "    out = theta.dot(previous_layer)\n",
    "    return out\n",
    "\n",
    "def compute_output(input_layer, *thetas):\n",
    "    out = input_layer\n",
    "    for theta in thetas:\n",
    "        out = compute_next_layer(out, theta)\n",
    "    return out\n",
    "        \n",
    "input_layer = np.asmatrix([[2454],[3121]])\n",
    "\n",
    "theta1 = np.matrix([[1, 0.5, 1.9], [1, 1.2, 2.7]])\n",
    "theta2 = np.matrix([1, -0.2, -1.7])\n",
    "\n",
    "print compute_output(input_layer, theta1, theta2)\n",
    "\n",
    "theta1 = np.matrix([[1, 1.2, 2.7], [1, 0.5, 1.9]])\n",
    "theta2 = np.matrix([1, -1.7, -0.2])\n",
    "\n",
    "print compute_output(input_layer, theta1, theta2)"
   ]
  }
 ],
 "metadata": {
  "kernelspec": {
   "display_name": "Python 2",
   "language": "python",
   "name": "python2"
  },
  "language_info": {
   "codemirror_mode": {
    "name": "ipython",
    "version": 2
   },
   "file_extension": ".py",
   "mimetype": "text/x-python",
   "name": "python",
   "nbconvert_exporter": "python",
   "pygments_lexer": "ipython2",
   "version": "2.7.10"
  }
 },
 "nbformat": 4,
 "nbformat_minor": 0
}
