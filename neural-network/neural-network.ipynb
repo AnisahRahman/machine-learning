{
 "cells": [
  {
   "cell_type": "markdown",
   "metadata": {},
   "source": [
    "## Model Representation\n",
    "\n",
    "![](img/neural-represent.png)\n",
    "\n",
    "$a_i^{(j)}$: \"activation\" of unit $i$ in layer $j$\n",
    "\n",
    "$\\theta^{(j})$: matrix of weight controlling, function mapping from layer $j$ to layer $j+1$"
   ]
  },
  {
   "cell_type": "markdown",
   "metadata": {},
   "source": [
    "**Question**\n",
    "\n",
    "Consider the following neural network\n",
    "\n",
    "![](img/neural-represent.png)\n",
    "\n",
    "What is demension of $\\theta^{(1)}$?\n",
    "\n",
    "1. 2x4\n",
    "2. 4x2\n",
    "3. 3x4\n",
    "4. 4x3"
   ]
  },
  {
   "cell_type": "markdown",
   "metadata": {},
   "source": [
    "## Model representation\n",
    "\n",
    "How compute note\n",
    "\n",
    "* Input Layer\n",
    "* Output Layer\n",
    "* Hidden Layer"
   ]
  },
  {
   "cell_type": "markdown",
   "metadata": {},
   "source": [
    "## Examples and Intuitions\n",
    "\n",
    "Simple Neural Network can learn XOR function\n",
    "\n",
    "![](img/nn-xor.png)"
   ]
  },
  {
   "cell_type": "markdown",
   "metadata": {
    "collapsed": true
   },
   "source": [
    "**Question**\n",
    "\n",
    "\n",
    "Which of the following networks (approximately) computes the boolean function $(NOT\\  x_1)\\ OR\\ (NOT\\ x_2)$"
   ]
  }
 ],
 "metadata": {
  "kernelspec": {
   "display_name": "Python 2",
   "language": "python",
   "name": "python2"
  },
  "language_info": {
   "codemirror_mode": {
    "name": "ipython",
    "version": 2
   },
   "file_extension": ".py",
   "mimetype": "text/x-python",
   "name": "python",
   "nbconvert_exporter": "python",
   "pygments_lexer": "ipython2",
   "version": "2.7.10"
  }
 },
 "nbformat": 4,
 "nbformat_minor": 0
}
