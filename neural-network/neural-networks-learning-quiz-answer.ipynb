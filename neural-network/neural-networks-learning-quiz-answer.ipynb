{
 "cells": [
  {
   "cell_type": "markdown",
   "metadata": {},
   "source": [
    "**1.** You are training a three layer neural network and would like to use backpropagation to compute the gradient of the cost function. In the backpropagation algorithm, one of the steps is to update\n",
    "\n",
    "$Δ^{(2)}_{ij}:=Δ^{(2)}_{ij}+δ^{(3)}_{i}∗(a^{(2)})_j$ for every $i,j$.\n",
    "\n",
    "Which of the following is a correct vectorization of this step?\n",
    "\n",
    "A. $Δ^{(2)}:=Δ^{(2)}+δ^{(3)}∗(a^{(3)})^T$\n",
    "\n",
    "False\n",
    "\n",
    "B. $Δ^{(2)}:=Δ^{(2)}+(a^{(3)})^T∗δ^{(3)}$\n",
    "\n",
    "False\n",
    "\n",
    "C. $Δ^{(2)}:=Δ^{(2)}+δ^{(2)}∗(a^{(2)})^T$\n",
    "\n",
    "False\n",
    "\n",
    "D. $Δ^{(2)}:=Δ^{(2)}+δ^{(3)}∗(a^{(2)})^T$\n",
    "\n",
    "True"
   ]
  },
  {
   "cell_type": "markdown",
   "metadata": {},
   "source": [
    "**2.** Suppose $Theta1$ is a 5x3 matrix, and $Theta2$ is a 4x6 matrix.\n",
    "\n",
    "You set `thetaVec=[Theta1(:);Theta2(:)]`.\n",
    "\n",
    "Which of the following correctly recovers Theta2?\n",
    "\n",
    "A. `reshape(thetaVec(16:39),4,6)`\n",
    "\n",
    "True\n",
    "\n",
    "B. `reshape(thetaVec(15:38),4,6)`\n",
    "\n",
    "False\n",
    "\n",
    "C. `reshape(thetaVec(16:24),4,6)`\n",
    "\n",
    "False\n",
    "\n",
    "D. `reshape(thetaVec(15:39),4,6)`\n",
    "\n",
    "False\n",
    "\n",
    "E. `reshape(thetaVec(16:39),6,4)`\n",
    "\n",
    "False"
   ]
  },
  {
   "cell_type": "markdown",
   "metadata": {},
   "source": [
    "**3.**  Let J(θ)=2θ4+2. Let θ=1, and ϵ=0.01. Use the formula J(θ+ϵ)−J(θ−ϵ)2ϵ to numerically compute an approximation to the derivative at θ=1. What value do you get? (When θ=1, the true/exact derivative is dJ(θ)dθ=8.)\n",
    "\n",
    "A. 10\n",
    "\n",
    "False\n",
    "\n",
    "B. 7.9992\n",
    "\n",
    "False\n",
    "\n",
    "C. 8\n",
    "\n",
    "False\n",
    "\n",
    "D. 8.0008\n",
    "\n",
    "True"
   ]
  },
  {
   "cell_type": "markdown",
   "metadata": {},
   "source": [
    "**4.**  Which of the following statements are true? Check all that apply.\n",
    "\n",
    "A. Using gradient checking can help verify if one's implementation of backpropagation is bug-free.\n",
    "\n",
    "True\n",
    "\n",
    "B. Gradient checking is useful if we are using gradient descent as our optimization algorithm. However, it serves little purpose if we are using one of the advanced optimization methods (such as in fminunc).\n",
    "\n",
    "False\n",
    "\n",
    "C. Using a large value of λ cannot hurt the performance of your neural network; the only reason we do not set λ to be too large is to avoid numerical problems.\n",
    "\n",
    "False\n",
    "\n",
    "D. If our neural network overfits the training set, one reasonable step to take is to increase the regularization parameter λ.\n",
    "\n",
    "True"
   ]
  },
  {
   "cell_type": "markdown",
   "metadata": {},
   "source": [
    "**5.** Which of the following statements are true? Check all that apply.\n",
    "\n",
    "A. Suppose we are using gradient descent with learning rate α. For logistic regression and linear regression, J(θ) was a convex optimization problem and thus we did not want to choose a learning rate α that is too large. For a neural network however, J(Θ) may not be convex, and thus choosing a very large value of α can only speed up convergence.\n",
    "\n",
    "False\n",
    "\n",
    "B. Suppose we have a correct implementation of backpropagation, and are training a neural network using gradient descent. Suppose we plot J(Θ) as a function of the number of iterations, and find that it is increasing rather than decreasing. One possible cause of this is that the learning rate α is too large.\n",
    "\n",
    "True\n",
    "\n",
    "C. If we are training a neural network using gradient descent, one reasonable \"debugging\" step to make sure it is working is to plot J(Θ) as a function of the number of iterations, and make sure it is decreasing (or at least non-increasing) after each iteration.\n",
    "\n",
    "True\n",
    "\n",
    "D. Suppose that the parameter Θ(1) is a square matrix (meaning the number of rows equals the number of columns). If we replace Θ(1) with its transpose (Θ(1))T, then we have not changed the function that the network is computing.\n",
    "\n",
    "False"
   ]
  }
 ],
 "metadata": {
  "kernelspec": {
   "display_name": "Python 2",
   "language": "python",
   "name": "python2"
  },
  "language_info": {
   "codemirror_mode": {
    "name": "ipython",
    "version": 2.0
   },
   "file_extension": ".py",
   "mimetype": "text/x-python",
   "name": "python",
   "nbconvert_exporter": "python",
   "pygments_lexer": "ipython2",
   "version": "2.7.10"
  }
 },
 "nbformat": 4,
 "nbformat_minor": 0
}