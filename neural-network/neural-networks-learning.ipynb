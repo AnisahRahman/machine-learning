{
 "cells": [
  {
   "cell_type": "markdown",
   "metadata": {},
   "source": [
    "## Cost Function and Backpropagation (1)\n",
    "\n",
    "![](img/p1.png)\n",
    "\n",
    "### Cost Function\n",
    "\n",
    "Cost function for the neural network (with regularization)\n",
    "\n",
    "$J(\\Theta) = \\frac{-1}{m}\\left[ \\sum_{i=1}^m \\sum_{k=1}^K y_k^{(i)} log(h_{\\theta}(x^{(i)})_k) + (1 - y_k^{(i)}) (1 - log(h_{\\theta}(x^{(i)})_k))\\right] + \\frac{\\lambda}{2m} \\sum_{l=1}^{L-1} \\sum_{i=1}^{s_l} \\sum_{j=1}^{s_l - 1} (\\Theta_{ji}^{(l)})^2$ \n",
    "\n",
    "With\n",
    "\n",
    "* $K$: number of classes\n",
    "* $m$: number items in training set\n",
    "\n",
    "### Backpropagation Algorithm\n",
    "\n",
    "\n",
    "### Backpropagation Intuition\n",
    "\n",
    "![](img/nn-backpropagation.png)\n",
    "\n",
    "The intuition behind the backpropagation algorithm is as follows.\n",
    "\n",
    "* Given a training example $(x^{(t)}, y^{(t)})$, we will first run a “forward pass” to compute all the activations throughout the network, including the output value of the hypothesis $h_{\\Theta}(x)$.\n",
    "* Then, for each node j in layer l, we would like to compute an “error term” $\\delta_j^{(l)}$ that measures how much that node was “responsible” for any errors in our output.\n",
    "\n",
    "For an `output node`, we can directly measure the difference between the network’s activation and the true target value, and use that to define $δ_j^{(3)}$ (since layer 3 is the output layer). For the `hidden units`, you will compute $δ^{(l)}_j$ based on a weighted average of the error terms of the nodes in layer $(l + 1)$."
   ]
  },
  {
   "cell_type": "markdown",
   "metadata": {},
   "source": [
    "## Backpropagation in Practice\n",
    "\n",
    "### Implementation Note: Unrolling Parameters\n",
    "### Gradient Checking\n",
    "### Random Initialization (symmetry breaking)\n",
    "\n",
    "Init each $\\Theta_{ij}^{(l)}$ to a random value in $(-\\epsilon, \\epsilon)$\n",
    "\n",
    "### Putting It Together\n",
    "\n",
    "Training a neural network\n",
    "\n",
    "Pick a network architecture (connectivity pattern between neurons)\n",
    "\n",
    "* \\# of input units: dimension of feature $x^{(i)}$\n",
    "* \\# of output units: # of classes\n",
    "\n",
    "Reasonable default:\n",
    "\n",
    "* 1 hidden layer\n",
    "* If >1 hidden layer, have same # of hidden units in every layer (usally the more the better)"
   ]
  },
  {
   "cell_type": "markdown",
   "metadata": {},
   "source": [
    "## Application of Neural Networks\n",
    "\n",
    "### Autonomous Driving"
   ]
  }
 ],
 "metadata": {
  "kernelspec": {
   "display_name": "Python 2",
   "language": "python",
   "name": "python2"
  },
  "language_info": {
   "codemirror_mode": {
    "name": "ipython",
    "version": 2.0
   },
   "file_extension": ".py",
   "mimetype": "text/x-python",
   "name": "python",
   "nbconvert_exporter": "python",
   "pygments_lexer": "ipython2",
   "version": "2.7.10"
  }
 },
 "nbformat": 4,
 "nbformat_minor": 0
}